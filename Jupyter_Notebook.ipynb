{
  "metadata": {
    "kernelspec": {
      "name": "python",
      "display_name": "Python (Pyodide)",
      "language": "python"
    },
    "language_info": {
      "codemirror_mode": {
        "name": "python",
        "version": 3
      },
      "file_extension": ".py",
      "mimetype": "text/x-python",
      "name": "python",
      "nbconvert_exporter": "python",
      "pygments_lexer": "ipython3",
      "version": "3.8"
    }
  },
  "nbformat_minor": 4,
  "nbformat": 4,
  "cells": [
    {
      "cell_type": "markdown",
      "source": "<center>\n    <img src=\"https://cf-courses-data.s3.us.cloud-object-storage.appdomain.cloud/IBMDeveloperSkillsNetwork-DS0105EN-SkillsNetwork/labs/Module2/images/SN_web_lightmode.png\" width=\"300\" alt=\"cognitiveclass.ai logo\">\n</center>",
      "metadata": {}
    },
    {
      "cell_type": "markdown",
      "source": "# Data Science Tools and Ecosystem",
      "metadata": {}
    },
    {
      "cell_type": "markdown",
      "source": "In this notebook, Data Science Tools and Ecosystem are summarized.",
      "metadata": {}
    },
    {
      "cell_type": "markdown",
      "source": "__Objectives:__  \n* Create a Jupyter Notebook\n* Insert code and markdown cells\n* Share your notebook through GitHub",
      "metadata": {}
    },
    {
      "cell_type": "markdown",
      "source": "*__- Some of the popular languages that Data Scientists use are :__*\n 1. Python\n 2. R\n 3. Java",
      "metadata": {}
    },
    {
      "cell_type": "markdown",
      "source": "*__- Some of the commonly used libraries used by Data Scientists include :__*\n- Pandas\n- NumPy\n- Scikit-learn\n- TensorFlow",
      "metadata": {}
    },
    {
      "cell_type": "markdown",
      "source": "*__- A table indicate three development environment open source tools used in data science.__*\n|   Data Science Tools   |\n|:----------------------:|\n|Jupyter Notebook|\n|RStudio|\n|Visual Studio Code|",
      "metadata": {}
    },
    {
      "cell_type": "markdown",
      "source": "### Below are a few examples of evaluating arithmetic expressions in Python.\n##### Example 1: Addition\n- *Expression*: `8 + 3`\n- *Output*: `11`\n\n##### Example 2: Subtraction\n- *Expression*: `15 - 7`\n- *Output*: `8`\n\n##### Example 6: Combination\n- *Expression*: `(8 + 2) * (5 - 3)`\n- *Output**: `20`",
      "metadata": {}
    },
    {
      "cell_type": "markdown",
      "source": "*__- Create a code cell to multiply and add numbers.__*",
      "metadata": {}
    },
    {
      "cell_type": "code",
      "source": "# This a simple arithmetic expression to mutiply then add integers.\nprint(\"The result of the expression (3*4)+5 is \", (3*4)+5)",
      "metadata": {
        "trusted": true
      },
      "outputs": [
        {
          "name": "stdout",
          "text": "The result of the expression (3*4)+5 is  17\n",
          "output_type": "stream"
        }
      ],
      "execution_count": 28
    },
    {
      "cell_type": "markdown",
      "source": "*__- Create a code cell to convert minutes to hours.__*",
      "metadata": {}
    },
    {
      "cell_type": "code",
      "source": "# This will convert 200 minutes to hours by diving by 60.\nprint(\"The conversion from 200 min to hours is as follows : 200 min / 60 is \", round(200/60, 2))",
      "metadata": {
        "trusted": true
      },
      "outputs": [
        {
          "name": "stdout",
          "text": "The conversion from 200 min to hours is as follows : 200 min / 60 is  3.33\n",
          "output_type": "stream"
        }
      ],
      "execution_count": 29
    },
    {
      "cell_type": "markdown",
      "source": "## Author\nAbou zakaria FAROUKHI",
      "metadata": {}
    }
  ]
}